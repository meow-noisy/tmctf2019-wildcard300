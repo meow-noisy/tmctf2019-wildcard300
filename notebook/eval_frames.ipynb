{
 "nbformat": 4,
 "nbformat_minor": 2,
 "metadata": {
  "language_info": {
   "name": "python",
   "codemirror_mode": {
    "name": "ipython",
    "version": 3
   },
   "version": "3.7.3-final"
  },
  "orig_nbformat": 2,
  "file_extension": ".py",
  "mimetype": "text/x-python",
  "name": "python",
  "npconvert_exporter": "python",
  "pygments_lexer": "ipython3",
  "version": 3,
  "kernelspec": {
   "name": "python3",
   "display_name": "Python 3"
  }
 },
 "cells": [
  {
   "cell_type": "code",
   "execution_count": 9,
   "metadata": {},
   "outputs": [
    {
     "output_type": "execute_result",
     "data": {
      "text/plain": "'cuda'"
     },
     "metadata": {},
     "execution_count": 9
    }
   ],
   "source": [
    "import torch\n",
    "import torchvision\n",
    "import torch.nn as nn\n",
    "import torchvision.transforms as transforms\n",
    "import torch.optim as optim\n",
    "from PIL import Image\n",
    "import numpy as np\n",
    "\n",
    "from pathlib import Path\n",
    "\n",
    "from matplotlib import pyplot as plt\n",
    "%matplotlib inline\n",
    "\n",
    "import shutil\n",
    "\n",
    "from pathlib import Path\n",
    "torch.cuda.device(0)\n",
    "device = 'cuda' if torch.cuda.is_available() else 'cpu'\n",
    "device"
   ]
  },
  {
   "cell_type": "code",
   "execution_count": 10,
   "metadata": {},
   "outputs": [],
   "source": [
    "crash_frame_idx = 5454\n",
    "end_frame = 19050"
   ]
  },
  {
   "cell_type": "code",
   "execution_count": 11,
   "metadata": {},
   "outputs": [
    {
     "output_type": "stream",
     "name": "stdout",
     "text": "512\n"
    }
   ],
   "source": [
    "net = torchvision.models.resnet18(pretrained=False)\n",
    "net = net.to(device)\n",
    "num_fc_input = net.fc.in_features\n",
    "print(num_fc_input)\n",
    "net.fc = nn.Linear(num_fc_input, 2).cuda()\n",
    "#net.fc = \n",
    "#net.fc = nn.Sequential(nn.Linear(num_fc_input, 1).to(device),\n",
    "#                      nn.Sigmoid())\n",
    ""
   ]
  },
  {
   "cell_type": "code",
   "execution_count": 12,
   "metadata": {},
   "outputs": [
    {
     "output_type": "execute_result",
     "data": {
      "text/plain": "<All keys matched successfully>"
     },
     "metadata": {},
     "execution_count": 12
    }
   ],
   "source": [
    "# load trained weight\n",
    "model_name = \"sample\"\n",
    "weight_path = f'../models/{model_name}.pt'\n",
    "net.load_state_dict(torch.load(weight_path))"
   ]
  },
  {
   "cell_type": "code",
   "execution_count": 13,
   "metadata": {},
   "outputs": [],
   "source": [
    "# image preprocess\n",
    "transform = transforms.Compose([\n",
    "        transforms.ToTensor(),\n",
    "        transforms.Normalize([0.485, 0.456, 0.406], [0.229, 0.224, 0.225])\n",
    "        ])"
   ]
  },
  {
   "cell_type": "code",
   "execution_count": 14,
   "metadata": {},
   "outputs": [
    {
     "output_type": "execute_result",
     "data": {
      "text/plain": "['../data/frames/frame_05454.jpg',\n '../data/frames/frame_05455.jpg',\n '../data/frames/frame_05456.jpg']"
     },
     "metadata": {},
     "execution_count": 14
    }
   ],
   "source": [
    "# dataset class\n",
    "\n",
    "image_dir = Path('../data/frames')\n",
    "\n",
    "class CustomDataset(torch.utils.data.Dataset):\n",
    "    def __init__(self):\n",
    "        super(CustomDataset, self).__init__()\n",
    "\n",
    "        # 前処理クラスを受け取る\n",
    "        self.transform = transform\n",
    "\n",
    "        # ラベルの用意\n",
    "        img_list = []\n",
    "        label_list = []\n",
    "\n",
    "        pos_num = 0\n",
    "        neg_num = 0\n",
    "\n",
    "        for idx in range(crash_frame_idx, end_frame):\n",
    "            img_idx = str(idx).zfill(5)\n",
    "            image_path = image_dir / ('frame_' + img_idx + '.jpg')\n",
    "            assert image_path.exists()\n",
    "            img_list.append(str(image_path))\n",
    "            label_list.append(int(idx))\n",
    "        \n",
    "        self.images = img_list\n",
    "        self.labels = label_list\n",
    "        self.num_balance = [float(neg_num), float(pos_num)]\n",
    "\n",
    "    def __getitem__(self, index):\n",
    "        image = self.images[index]\n",
    "        label = self.labels[index]\n",
    "\n",
    "        with open(image, 'rb') as f:\n",
    "            image = Image.open(f)\n",
    "            image = image.convert('RGB')\n",
    "        \n",
    "        # 前処理を入れる\n",
    "        if self.transform is not None:\n",
    "            image = self.transform(image)\n",
    "\n",
    "        return image, label\n",
    "\n",
    "    def __len__(self):\n",
    "        return len(self.images)\n",
    "\n",
    "c = CustomDataset()\n",
    "c.images[0:3]"
   ]
  },
  {
   "cell_type": "code",
   "execution_count": 15,
   "metadata": {},
   "outputs": [],
   "source": [
    "custom_dataset = CustomDataset()\n",
    "test_loader = torch.utils.data.DataLoader(dataset=custom_dataset,\n",
    "                                            batch_size=1,\n",
    "                                            )"
   ]
  },
  {
   "cell_type": "code",
   "execution_count": 17,
   "metadata": {},
   "outputs": [
    {
     "output_type": "stream",
     "name": "stdout",
     "text": "5507 0.9407\n5538 0.938\n5542 0.9976\n5579 0.9613\n5582 0.9445\n5634 0.9573\n5700 0.972\n5765 0.9892\n5792 0.9293\n5863 0.9134\n5869 0.9016\n5933 0.9972\n5994 0.9832\n5996 0.9662\n6020 0.9628\n6094 0.9215\n6096 0.9642\n6121 1.0\n6128 0.9365\n6142 0.9202\n6150 0.9678\n6152 0.9856\n6170 0.9357\n6172 0.9932\n6194 0.9717\n6198 0.9792\n6212 0.9076\n6306 0.9636\n6326 0.9692\n6344 0.9402\n6355 1.0\n6378 0.9879\n6383 0.9635\n6415 0.9625\n6436 0.9934\n6438 0.993\n6445 0.9869\n6473 0.9117\n6509 0.965\n6529 0.9621\n6563 0.9866\n6577 0.9211\n6610 0.9913\n6620 0.9854\n6704 0.9863\n6747 0.9656\n6831 0.9274\n6837 0.9887\n6887 0.9914\n6890 0.9979\n6900 0.9448\n6959 0.9559\n6968 0.9198\n6982 0.9426\n7006 0.9917\n7011 0.9945\n7012 0.9918\n7050 0.9478\n7069 0.9725\n7077 0.9262\n7120 0.9255\n7144 0.9134\n7146 0.9307\n7166 0.9991\n7217 0.9998\n7241 0.9161\n7251 0.9971\n7283 0.9595\n7326 0.9434\n7336 0.9965\n7357 0.9999\n7372 0.9183\n7412 0.9762\n7452 0.9899\n7607 0.9028\n7610 0.9938\n7659 0.9593\n7664 0.9308\n7689 0.9986\n7705 0.9358\n7754 0.9993\n7786 0.9292\n7796 0.9768\n7828 0.9985\n7835 0.994\n7857 0.9725\n7865 0.9793\n7921 0.998\n7925 0.9312\n7927 0.9947\n7931 0.9725\n7959 0.906\n7971 0.9994\n7992 0.9015\n8019 0.974\n8170 0.9777\n8213 0.9025\n8251 0.9588\n8254 0.999\n8257 0.9683\n8286 0.9769\n8381 0.9468\n8445 0.9567\n8453 0.9618\n8477 0.9916\n8489 0.9122\n8539 0.9967\n8541 0.9539\n8559 0.9577\n8611 0.9424\n8636 0.9997\n8649 0.9968\n8666 0.9777\n8718 0.9122\n8733 0.9953\n8746 0.9863\n8786 0.9118\n8817 0.9896\n8824 0.964\n8862 0.9856\n8869 0.9618\n8874 0.9862\n8888 0.9723\n8898 0.9163\n8944 0.9835\n8946 0.9977\n8999 0.9387\n9006 0.9268\n9015 0.9693\n9027 0.9265\n9029 0.9995\n9035 0.9955\n9066 0.9034\n9144 0.9967\n9163 0.9088\n9199 0.9961\n9202 0.9995\n9270 0.9997\n9281 0.9911\n9286 0.9896\n9350 0.9327\n9389 0.992\n9424 0.9982\n9439 0.9322\n9442 0.9724\n9444 0.9814\n9473 0.9929\n9489 0.9001\n9491 0.9927\n9503 0.9006\n9517 0.9723\n9561 0.9012\n9570 0.9836\n9577 0.9185\n9585 0.9277\n9596 0.9189\n9609 0.9665\n9629 0.9826\n9662 0.9188\n9679 0.9905\n9700 0.9898\n9717 0.9814\n9730 0.9571\n9738 0.9994\n9750 0.9388\n9770 0.995\n9780 0.9827\n9849 0.9813\n9856 0.9686\n9873 0.9986\n9891 0.996\n9904 0.9868\n9972 0.9294\n9977 0.9555\n10012 0.9886\n10015 0.9741\n10113 0.9431\n10181 0.9509\n10213 0.986\n10302 0.9898\n10324 0.9154\n10355 0.9854\n10645 0.9122\n10648 0.9127\n10667 0.9548\n10670 0.9166\n10677 0.9662\n10863 0.9901\n10873 0.9636\n10904 0.9974\n10913 0.9975\n10934 0.947\n10995 0.9717\n11009 0.9551\n11044 0.9426\n11183 0.9669\n11213 0.957\n11270 0.9775\n11420 0.9767\n11466 0.9528\n11655 0.9034\n11703 0.9805\n11767 0.913\n11834 0.9372\n11868 0.9132\n11875 0.9525\n11925 0.9459\n11931 0.9336\n11996 0.9744\n12000 0.9993\n12017 0.99\n12035 0.9678\n12041 0.9071\n12124 0.9248\n12132 0.9964\n12193 0.9657\n12198 0.958\n12265 0.999\n12268 0.9633\n12282 0.9725\n12304 0.9808\n12310 0.9766\n12313 0.9845\n12328 0.9583\n12374 0.9664\n12411 0.9322\n12412 0.9873\n12439 0.9615\n12510 0.937\n12530 0.905\n12643 0.9221\n12724 0.9772\n12750 0.9997\n12832 0.9963\n12890 0.9401\n12900 0.981\n12909 0.9953\n13014 0.9089\n13091 0.9789\n13099 0.9722\n13126 0.9282\n13161 0.9381\n13172 0.9583\n13206 0.9869\n13273 0.9605\n13312 0.9538\n13413 0.9977\n13437 0.9531\n13443 0.9832\n13502 0.9982\n13530 0.9318\n13598 0.9966\n13622 1.0\n13654 0.9944\n13675 0.9017\n13712 0.992\n13736 0.9223\n13797 0.9478\n13831 0.9365\n13844 0.9819\n13867 0.9712\n13886 0.9393\n13979 0.9982\n14048 0.936\n14080 0.9806\n14131 0.9868\n14136 0.9222\n14184 0.9833\n14221 0.9915\n14241 0.9952\n14258 0.9507\n14265 0.9586\n14304 0.9399\n14346 0.9948\n14365 0.9388\n14461 0.9444\n14474 0.9839\n14506 0.9781\n14526 0.9374\n14578 0.9529\n14618 0.9209\n14622 0.9488\n14653 0.9995\n14655 0.9913\n14708 0.9921\n14757 0.9989\n14762 0.9998\n14764 0.9967\n14769 0.9931\n14781 0.9999\n14791 0.9998\n14810 0.9938\n14820 1.0\n14831 0.996\n14841 0.995\n14851 0.9968\n14865 0.9979\n14895 0.9269\n14904 0.9405\n14913 0.9593\n14965 0.9753\n14993 1.0\n15089 0.9757\n15111 0.9966\n15178 0.9113\n15184 0.991\n15201 0.9602\n15222 0.9999\n15226 0.9981\n15231 0.9832\n15252 0.9742\n15255 0.9924\n15270 0.9616\n15279 0.926\n15280 1.0\n15308 0.9233\n15338 1.0\n15349 0.9293\n15368 0.9186\n15374 0.9992\n15379 0.9743\n15406 1.0\n15408 0.9687\n15412 1.0\n15422 0.9779\n15427 0.9187\n15457 0.9998\n15479 0.9762\n15499 0.9987\n15516 0.975\n15520 0.9998\n15536 1.0\n15554 0.9998\n15569 0.9029\n15573 0.9816\n15612 0.975\n15649 0.988\n15676 0.9997\n15680 0.9999\n15692 0.9823\n15713 0.9665\n15743 0.9984\n15781 0.9989\n15790 0.9848\n15810 0.9997\n15834 0.9998\n15840 0.9935\n15850 1.0\n15868 0.9912\n15878 0.9941\n15893 0.9331\n15922 0.979\n15927 0.9817\n15950 0.9653\n15967 0.9495\n15979 1.0\n15980 0.9994\n16004 0.9882\n16015 0.9563\n16035 0.9989\n16061 0.9094\n16062 1.0\n16077 1.0\n16081 0.9889\n16088 0.9526\n16092 1.0\n16101 0.9946\n16122 0.9993\n16153 0.9995\n16196 0.9846\n16231 0.9582\n16235 0.932\n16244 0.9878\n16247 0.9937\n16270 0.9998\n16271 1.0\n16281 0.9883\n16319 0.9948\n16320 0.9941\n16323 0.9994\n16368 0.9992\n16444 0.9997\n16451 0.9934\n16473 1.0\n16490 0.9893\n16491 0.963\n16502 0.9673\n16505 0.9064\n16507 0.9018\n16564 0.9942\n16571 0.9373\n16575 0.9995\n16594 0.9998\n16608 1.0\n16653 0.9198\n16675 0.9263\n16694 0.9609\n16706 0.923\n16723 0.9995\n16779 0.9983\n16789 0.9962\n16809 0.9848\n16816 0.9858\n16840 0.9187\n16847 0.9979\n16860 0.9837\n16864 0.9471\n16912 0.9758\n16959 0.9376\n16967 0.9904\n16983 0.948\n16985 0.9983\n16987 0.9957\n17011 0.9155\n17017 1.0\n17049 1.0\n17077 0.96\n17082 0.9988\n17086 0.9894\n17092 0.9992\n17120 0.9971\n17121 0.9421\n17125 0.9932\n17178 0.9976\n17190 0.9418\n17202 0.9982\n17208 0.9958\n17212 0.9995\n17220 0.9988\n17225 0.9495\n17235 0.994\n17244 1.0\n17264 0.9783\n17269 0.999\n17370 0.9443\n17375 0.9991\n17378 0.9404\n17402 0.9928\n17431 0.9874\n17454 0.9961\n17457 0.9637\n17462 1.0\n17484 0.9973\n17501 0.9762\n17503 0.9232\n17544 0.9482\n17546 0.9126\n17566 0.9052\n17649 0.9603\n17691 0.9977\n17699 0.9059\n17704 0.998\n17736 0.9823\n17737 0.9354\n17805 0.9839\n17826 0.9926\n17857 0.9726\n17882 0.9893\n17894 0.9675\n17904 0.9762\n17938 1.0\n17940 0.9975\n18035 0.9972\n18047 0.9988\n18071 0.9977\n18073 0.9975\n18111 1.0\n18114 0.9975\n18123 0.9394\n18166 0.9861\n18176 0.9998\n18189 0.9101\n18202 0.9992\n18205 0.9932\n18233 1.0\n18249 0.9618\n18272 0.987\n18274 0.9882\n18278 0.96\n18356 0.9471\n18363 0.976\n18369 0.9998\n18376 0.9993\n18387 1.0\n18396 0.9604\n18424 0.9763\n18441 0.9949\n18445 0.9997\n18487 0.9684\n18498 0.972\n18519 0.9959\n18560 1.0\n18561 0.9985\n18572 1.0\n18629 0.9885\n18636 0.9885\n18644 0.9513\n18653 0.9321\n18656 0.9852\n18659 1.0\n18662 0.9679\n18669 0.9596\n18696 0.9304\n18711 0.9141\n18716 0.9253\n18743 0.9866\n18751 0.9731\n18778 1.0\n18790 0.9238\n18841 0.9999\n18864 0.9999\n18875 0.9048\n18886 1.0\n18887 0.9855\n18906 0.9923\n18912 0.9555\n18916 0.9988\n18922 0.9988\n18932 0.9359\n18940 1.0\nCPU times: user 11min 59s, sys: 13.4 s, total: 12min 13s\nWall time: 3min 5s\n"
    }
   ],
   "source": [
    "%%time\n",
    "output_path = Path(f\"../results/{model_name}\")\n",
    "output_path.mkdir(exist_ok=True, parents=True)\n",
    "output_path = str(output_path)\n",
    "\n",
    "# if an image whose estimated value is over threshold, recognized as containing flagman \n",
    "threshold = 0.9\n",
    "\n",
    "softmax = torch.nn.Softmax(dim=1)\n",
    "\n",
    "\n",
    "im_list1 = []\n",
    "net.eval()\n",
    "with torch.no_grad():\n",
    "    for i, (images, labels) in enumerate(test_loader):\n",
    "        images, labels =images.to(device), labels.to(device)\n",
    "        outputs = net(images)\n",
    "        prob = (softmax(outputs)).cpu().numpy().tolist()\n",
    "        pos_prob = round(float(prob[0][1]), 4)\n",
    "\n",
    "        if pos_prob > threshold:\n",
    "            x = int(labels)\n",
    "            print(x, pos_prob)\n",
    "            image_path = image_dir / ('frame_' + str(x).zfill(5) + '.jpg')\n",
    "            im_list1.append(x)\n",
    "            shutil.copy(str(image_path), output_path)\n",
    ""
   ]
  },
  {
   "cell_type": "code",
   "execution_count": null,
   "metadata": {},
   "outputs": [],
   "source": [
    "# Flagmanがいた。\n",
    "\n",
    "# 6121  4 番目に一応\n",
    "# 6355  6\n",
    "# 9006  A\n",
    "# 12750 I?\n",
    "# 13622 C\n",
    "# 15850 4\n",
    "# 18111 C\n",
    "# 19059-終わり } "
   ]
  }
 ]
}