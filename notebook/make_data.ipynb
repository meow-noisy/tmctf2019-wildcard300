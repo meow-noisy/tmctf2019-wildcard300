{
 "cells": [
  {
   "cell_type": "markdown",
   "metadata": {},
   "source": [
    "# convert avi → dataset for machine learning"
   ]
  },
  {
   "cell_type": "code",
   "execution_count": 4,
   "metadata": {},
   "outputs": [],
   "source": [
    "from pathlib import Path\n",
    "import numpy as np\n",
    "\n",
    "import shutil"
   ]
  },
  {
   "cell_type": "code",
   "execution_count": 2,
   "metadata": {},
   "outputs": [],
   "source": [
    "# avi → images\n",
    "# from https://note.nkmk.me/python-opencv-video-to-still-image/\n",
    "\n",
    "import cv2\n",
    "import os\n",
    "\n",
    "def save_all_frames(video_path, dir_path, basename, ext='jpg'):\n",
    "    cap = cv2.VideoCapture(video_path)\n",
    "\n",
    "    if not cap.isOpened():\n",
    "        return\n",
    "\n",
    "    os.makedirs(dir_path, exist_ok=True)\n",
    "    base_path = os.path.join(dir_path, basename)\n",
    "\n",
    "    digit = len(str(int(cap.get(cv2.CAP_PROP_FRAME_COUNT))))\n",
    "\n",
    "    n = 0\n",
    "\n",
    "    while True:\n",
    "        ret, frame = cap.read()\n",
    "        if ret:\n",
    "            cv2.imwrite('{}_{}.{}'.format(base_path, str(n).zfill(digit), ext), frame)\n",
    "            n += 1\n",
    "        else:\n",
    "            return\n"
   ]
  },
  {
   "cell_type": "code",
   "execution_count": 3,
   "metadata": {},
   "outputs": [],
   "source": [
    "# separate into frames and name as index number from 0\n",
    "frame_output_dir = '../data/frames'\n",
    "save_all_frames('/path/to/your/output_final_longer.avi', frame_output_dir, 'frame')\n"
   ]
  },
  {
   "cell_type": "code",
   "execution_count": 5,
   "metadata": {},
   "outputs": [
    {
     "output_type": "execute_result",
     "data": {
      "text/plain": "18"
     },
     "metadata": {},
     "execution_count": 5
    }
   ],
   "source": [
    "# check movie's fps\n",
    "fps = int(19266/(17*60+50))\n",
    "fps"
   ]
  },
  {
   "cell_type": "code",
   "execution_count": 6,
   "metadata": {},
   "outputs": [
    {
     "output_type": "execute_result",
     "data": {
      "text/plain": "1080"
     },
     "metadata": {},
     "execution_count": 6
    }
   ],
   "source": [
    "# calc frame per minute\n",
    "fpm = fps * 60\n",
    "fpm"
   ]
  },
  {
   "cell_type": "code",
   "execution_count": 7,
   "metadata": {},
   "outputs": [
    {
     "output_type": "execute_result",
     "data": {
      "text/plain": "5400"
     },
     "metadata": {},
     "execution_count": 7
    }
   ],
   "source": [
    "# calc image frame index when an attack against CCTV begins,\n",
    "# which can be used as train data for a machine learning model\n",
    "\n",
    "attack_begin_frame_idx = fpm * 5\n",
    "attack_begin_frame_idx"
   ]
  },
  {
   "cell_type": "code",
   "execution_count": 8,
   "metadata": {},
   "outputs": [],
   "source": [
    "# here is index which represents begin of test for machine learning model\n",
    "crash_frame_idx = 5454\n",
    "end_frame = 19266"
   ]
  },
  {
   "cell_type": "code",
   "execution_count": 20,
   "metadata": {},
   "outputs": [
    {
     "name": "stdout",
     "output_type": "stream",
     "text": [
      "[162 288]\n",
      "[1008 1206]\n",
      "[2088 2268]\n",
      "[2844 2988]\n",
      "[3600 3870]\n",
      "[4878 5040]\n"
     ]
    }
   ],
   "source": [
    "# I check flagman occurence start and end time in 5 min\n",
    "appear_about_sec_span = [\n",
    "    [9,16],  # 'T'\n",
    "    [56,60*1+7],  # 'M'\n",
    "    [60*1+56, 60*2+6],  # 'C'\n",
    "    [60*2+38,60*2+46],  # 'T'\n",
    "    [60*3+20, 60*3+35],  # 'F'\n",
    "    [60*4+31, 60*4+40]  # \"{\"\n",
    "]\n",
    "\n",
    "for elem in appear_about_sec_span:\n",
    "    print(np.array(elem) * fps)"
   ]
  },
  {
   "cell_type": "code",
   "execution_count": 21,
   "metadata": {},
   "outputs": [],
   "source": [
    "train_frame = [\n",
    "    [132, 297],\n",
    "    [1016, 1198],\n",
    "    [2072, 2272],\n",
    "    [2826, 2989],\n",
    "    [3605, 3870],\n",
    "    [4887, 5032]\n",
    "    \n",
    "]"
   ]
  },
  {
   "cell_type": "code",
   "execution_count": 9,
   "metadata": {},
   "outputs": [],
   "source": [
    "# 修正\n",
    "train_frame = [\n",
    "    [148, 284],\n",
    "    [1016, 1180],\n",
    "    [2102, 2262],\n",
    "    [2852, 2981],\n",
    "    [3605, 3835],\n",
    "    [4894, 5025]\n",
    "    \n",
    "]"
   ]
  },
  {
   "cell_type": "code",
   "execution_count": 24,
   "metadata": {},
   "outputs": [
    {
     "data": {
      "text/plain": [
       "'00005'"
      ]
     },
     "execution_count": 24,
     "metadata": {},
     "output_type": "execute_result"
    }
   ],
   "source": [
    "str(5).zfill(5)"
   ]
  },
  {
   "cell_type": "code",
   "execution_count": 10,
   "metadata": {},
   "outputs": [
    {
     "output_type": "stream",
     "name": "stdout",
     "text": "1\n2\n3\n4\n5\n6\n"
    }
   ],
   "source": [
    "# train(pos, neg), eval\n",
    "\n",
    "pos_list = []\n",
    "neg_list = []\n",
    "\n",
    "label_list = []\n",
    "\n",
    "r_count = 0\n",
    "for x in range(0, attack_begin_frame_idx):\n",
    "    x_org = x\n",
    "    x = str(x).zfill(5)\n",
    "    if r_count >= len(train_frame):\n",
    "        neg_list.append(x)\n",
    "        label_list.append([x,0])\n",
    "        continue\n",
    "    \n",
    "    if train_frame[r_count][0] <= x_org < train_frame[r_count][1]:\n",
    "        pos_list.append(x)\n",
    "        label_list.append([x,1])\n",
    "    elif x_org <= train_frame[r_count][0]:\n",
    "        neg_list.append(x)\n",
    "        label_list.append([x,0])\n",
    "    elif x_org == train_frame[r_count][1]:\n",
    "        r_count += 1\n",
    "        print(r_count)\n",
    "        neg_list.append(x)\n",
    "        label_list.append([x,0])\n",
    "    else:\n",
    "        neg_list.append(x)\n",
    "        label_list.append([x,0])\n",
    "\n",
    ""
   ]
  },
  {
   "cell_type": "code",
   "execution_count": 31,
   "metadata": {},
   "outputs": [
    {
     "data": {
      "text/plain": [
       "(1120, '00132')"
      ]
     },
     "execution_count": 31,
     "metadata": {},
     "output_type": "execute_result"
    }
   ],
   "source": [
    "len(pos_list), pos_list[0]"
   ]
  },
  {
   "cell_type": "code",
   "execution_count": 30,
   "metadata": {},
   "outputs": [
    {
     "data": {
      "text/plain": [
       "4280"
      ]
     },
     "execution_count": 30,
     "metadata": {},
     "output_type": "execute_result"
    }
   ],
   "source": [
    "len(neg_list)"
   ]
  },
  {
   "cell_type": "code",
   "execution_count": 12,
   "metadata": {},
   "outputs": [],
   "source": [
    "# make labelfile\n",
    "with open('../data/train_re.txt', 'wt') as f:\n",
    "    for record in label_list:\n",
    "        record = [record[0], str(record[1])]\n",
    "        s = ','.join(record) + '\\n'\n",
    "        f.write(s)"
   ]
  },
  {
   "cell_type": "code",
   "execution_count": null,
   "metadata": {},
   "outputs": [],
   "source": []
  }
 ],
 "metadata": {
  "kernelspec": {
   "display_name": "Python 3",
   "language": "python",
   "name": "python3"
  },
  "language_info": {
   "codemirror_mode": {
    "name": "ipython",
    "version": 3
   },
   "file_extension": ".py",
   "mimetype": "text/x-python",
   "name": "python",
   "nbconvert_exporter": "python",
   "pygments_lexer": "ipython3",
   "version": "3.7.3-final"
  }
 },
 "nbformat": 4,
 "nbformat_minor": 2
}